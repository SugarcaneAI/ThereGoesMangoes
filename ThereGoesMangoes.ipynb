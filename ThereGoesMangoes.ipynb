{
  "nbformat": 4,
  "nbformat_minor": 0,
  "metadata": {
    "colab": {
      "provenance": [],
      "gpuType": "T4"
    },
    "kernelspec": {
      "name": "python3",
      "display_name": "Python 3"
    },
    "language_info": {
      "name": "python"
    },
    "accelerator": "GPU"
  },
  "cells": [
    {
      "cell_type": "markdown",
      "source": [
        "# Download and Install Requisisites"
      ],
      "metadata": {
        "id": "c3RvlGfwddCX"
      }
    },
    {
      "cell_type": "markdown",
      "source": [
        "## Clone Repository"
      ],
      "metadata": {
        "id": "b_3ywUzhdiup"
      }
    },
    {
      "cell_type": "code",
      "source": [
        "!git clone https://github.com/SugarcaneAI/ThereGoesMangoesDataset.git"
      ],
      "metadata": {
        "id": "dhiY3MQk6BuO"
      },
      "execution_count": null,
      "outputs": []
    },
    {
      "cell_type": "markdown",
      "source": [
        "## Install Ultralytics PyPackage to access the YOLO algorithm "
      ],
      "metadata": {
        "id": "elIQr4PzdoyZ"
      }
    },
    {
      "cell_type": "code",
      "source": [
        "%pip install ultralytics"
      ],
      "metadata": {
        "id": "k5XvCbIr6iT3"
      },
      "execution_count": null,
      "outputs": []
    },
    {
      "cell_type": "markdown",
      "source": [
        "# Actual Training"
      ],
      "metadata": {
        "id": "2hHtXxwbdyfQ"
      }
    },
    {
      "cell_type": "markdown",
      "source": [
        "## Import necessary libraries"
      ],
      "metadata": {
        "id": "b-YRjJXjd3dm"
      }
    },
    {
      "cell_type": "markdown",
      "source": [
        "* Python path processing utility library `pathlib` (imported as `pl`)\n",
        "* The YOLO `YOLO` class class to access the `YOLO` algorithm from Ultralytics `ultralytics`"
      ],
      "metadata": {
        "id": "pMoWDO9Vd7u5"
      }
    },
    {
      "cell_type": "code",
      "source": [
        "import pathlib as pl\n",
        "\n",
        "from ultralytics import YOLO\n",
        "\n",
        "from google.colab import files\n",
        "\n",
        "import locale"
      ],
      "metadata": {
        "id": "nNPa1nG88uz9"
      },
      "execution_count": null,
      "outputs": []
    },
    {
      "cell_type": "markdown",
      "source": [
        "## Global Parameters"
      ],
      "metadata": {
        "id": "8D0dbCBXefJS"
      }
    },
    {
      "cell_type": "markdown",
      "source": [
        "* Dataset Root folder `PARAM_DATASET_ROOT`\n",
        "* Dataset YAML file `PARAM_DATASET_YAML`"
      ],
      "metadata": {
        "id": "wtgsWtvbeiwC"
      }
    },
    {
      "cell_type": "code",
      "source": [
        "PARAM_DATASET_ROOT = pl.Path(\"/content/ThereGoesMangoesDataset\")\n",
        "PARAM_DATASET_YAML = PARAM_DATASET_ROOT.joinpath(\"yolo_mango_detection.yaml\")"
      ],
      "metadata": {
        "id": "fy40C2FnAGPZ"
      },
      "execution_count": null,
      "outputs": []
    },
    {
      "cell_type": "code",
      "source": [
        "locale.getpreferredencoding = lambda: \"UTF-8\""
      ],
      "metadata": {
        "id": "YInH99uUknDa"
      },
      "execution_count": null,
      "outputs": []
    },
    {
      "cell_type": "markdown",
      "source": [
        "## Training Loop"
      ],
      "metadata": {
        "id": "rWCRlfP8fglN"
      }
    },
    {
      "cell_type": "markdown",
      "source": [
        "Proceed with actual training."
      ],
      "metadata": {
        "id": "rS_zLGfWfjf8"
      }
    },
    {
      "cell_type": "code",
      "source": [
        "for mname, msize in [(\"nano\", \"n\"), (\"small\", \"s\"), (\"medium\", \"m\"), (\"large\", \"l\"), (\"xl\", \"x\")]:\n",
        "  for imgsz in [640, 1024]:\n",
        "    try:\n",
        "      # Load model\n",
        "      model = YOLO(f\"yolov8{msize}.pt\")\n",
        "      model.train(\n",
        "          data=PARAM_DATASET_YAML,\n",
        "          epochs=500,\n",
        "          batch=10,\n",
        "          imgsz=imgsz,\n",
        "          project=\"mangoes\",\n",
        "          name=f\"{mname}-{imgsz}\",\n",
        "          exist_ok=True,\n",
        "      )\n",
        "\n",
        "      # validate\n",
        "      model.val(\n",
        "          split=\"test\",\n",
        "          name=f\"{mname}-{imgsz}-val\",\n",
        "          exist_ok=True,\n",
        "      )\n",
        "    except Exception as exc:\n",
        "      print(f\"Caught exception: {exc}. Aborting.\")\n",
        "      continue"
      ],
      "metadata": {
        "id": "vhXdNN5rDGHv"
      },
      "execution_count": null,
      "outputs": []
    },
    {
      "cell_type": "markdown",
      "source": [
        "# Exporting"
      ],
      "metadata": {
        "id": "3jS0-q1trDD3"
      }
    },
    {
      "cell_type": "markdown",
      "source": [
        "## Export to TF `tensorflow` formats and download save files "
      ],
      "metadata": {
        "id": "CVPpoiLPrGJy"
      }
    },
    {
      "cell_type": "code",
      "source": [
        "for mname, msize in [(\"nano\", \"n\"), (\"small\", \"s\"), (\"medium\", \"m\"), (\"large\", \"l\"), (\"xl\", \"x\")]:\n",
        "  for imgsz in [256, 512, 640, 1024]:\n",
        "    path = pl.Path.cwd().joinpath(\"mangoes\").joinpath(f\"{mname}-{imgsz}/weights/best.pt\")\n",
        "\n",
        "    if not path.exists():\n",
        "      continue\n",
        "\n",
        "    # load in model\n",
        "    model = YOLO(path)\n",
        "\n",
        "    # Export to TFLite\n",
        "    model.export(format=\"tflite\")\n",
        "\n",
        "    # Export to TF Saved Model\n",
        "    model.export(format=\"saved_model\", keras=True)\n",
        "\n",
        "    # create ZIP file (for downloading later)\n",
        "    !zip -r /content/{mname}-{imgsz}.zip /content/mangoes/{mname}-{imgsz}\n",
        "\n",
        "    # wait for ZIP creation\n",
        "    fpath = pl.Path(f\"/content/{mname}-{imgsz}.zip\")\n",
        "    while not fpath.exists():\n",
        "      continue\n",
        "\n",
        "    # download file\n",
        "    files.download(fpath)"
      ],
      "metadata": {
        "id": "nAf3GHqNnKHy"
      },
      "execution_count": null,
      "outputs": []
    },
    {
      "cell_type": "markdown",
      "source": [],
      "metadata": {
        "id": "t5jYAy9ssZth"
      }
    },
    {
      "cell_type": "markdown",
      "source": [
        "gdfbdcghjf"
      ],
      "metadata": {
        "id": "Fb5vBSuswNz_"
      }
    }
  ]
}